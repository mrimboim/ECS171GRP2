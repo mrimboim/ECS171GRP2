{
 "cells": [
  {
   "cell_type": "code",
   "execution_count": 1,
   "metadata": {},
   "outputs": [],
   "source": [
    "#CHANGE PATH VARIABLE TO SOMETHING THAT WORKS ON YOUR COMPUTER AND DIRECTORY SYSTEM\n",
    "\n",
    "import fasttext\n",
    "import fasttext.util\n",
    "import pandas as pd\n",
    "import numpy as np\n",
    "# !pip install openpyxl\n",
    "df = pd.read_excel(\"annotations.xlsx\")\n",
    "dfy = pd.get_dummies(df.type)\n",
    "dfx = df.text\n",
    "ft = fasttext.load_model('fastText/cc.en.300.bin')\n",
    "fasttext.util.reduce_model(ft,100)\n",
    "ftfile = open(\"format.txt\", \"w\")\n",
    "for i in dfx:\n",
    "    ftfile.write(i.lower() + \"\\n\")\n",
    "ftfile.close()\n",
    "ftmodel = fasttext.train_unsupervised(\"format.txt\")"
   ]
  },
  {
   "cell_type": "code",
   "execution_count": 2,
   "metadata": {},
   "outputs": [
    {
     "name": "stdout",
     "output_type": "stream",
     "text": [
      "0         right\n",
      "1          left\n",
      "2          left\n",
      "3         right\n",
      "4         right\n",
      "          ...  \n",
      "17770    center\n",
      "17771      left\n",
      "17772    center\n",
      "17773      left\n",
      "17774     right\n",
      "Name: type, Length: 17775, dtype: object\n",
      "       center  left  right\n",
      "0           0     0      1\n",
      "1           0     1      0\n",
      "2           0     1      0\n",
      "3           0     0      1\n",
      "4           0     0      1\n",
      "...       ...   ...    ...\n",
      "17770       1     0      0\n",
      "17771       0     1      0\n",
      "17772       1     0      0\n",
      "17773       0     1      0\n",
      "17774       0     0      1\n",
      "\n",
      "[17775 rows x 3 columns]\n"
     ]
    }
   ],
   "source": [
    "print(df.type)\n",
    "print(dfy)\n"
   ]
  },
  {
   "cell_type": "code",
   "execution_count": 3,
   "metadata": {},
   "outputs": [],
   "source": [
    "from keras.preprocessing.text import Tokenizer\n",
    "vocab_size = len(ftmodel.words)\n",
    "tokenizer = Tokenizer(num_words = vocab_size, oov_token = \"<OOV>\")\n",
    "tokenizer.fit_on_texts(dfx)\n",
    "dfx_nums = tokenizer.texts_to_sequences(dfx)\n",
    "max_length = 100\n",
    "padding_type = 'post'\n",
    "truncation_type = 'post'\n",
    "from keras.preprocessing.sequence import pad_sequences\n",
    "dfx_nums_padded = pad_sequences(dfx_nums, maxlen = max_length, padding = padding_type, truncating = truncation_type)\n",
    "embedding_matrix = np.zeros((len(tokenizer.word_index) + 1, max_length))\n",
    "for word, i in tokenizer.word_index.items():\n",
    "    embedding_vector = ftmodel.get_word_vector(word)\n",
    "    if embedding_vector is not None:\n",
    "        embedding_matrix[i] = embedding_vector"
   ]
  },
  {
   "cell_type": "code",
   "execution_count": 4,
   "metadata": {},
   "outputs": [
    {
     "name": "stdout",
     "output_type": "stream",
     "text": [
      "Epoch 1/50\n",
      "373/373 [==============================] - 41s 89ms/step - loss: 0.5482 - accuracy: 0.5573 - val_loss: 0.4499 - val_accuracy: 0.7138\n",
      "Epoch 2/50\n",
      "373/373 [==============================] - 30s 79ms/step - loss: 0.2743 - accuracy: 0.8485 - val_loss: 0.1138 - val_accuracy: 0.9569\n",
      "Epoch 3/50\n",
      "373/373 [==============================] - 30s 81ms/step - loss: 0.0480 - accuracy: 0.9861 - val_loss: 0.0241 - val_accuracy: 0.9910\n",
      "Epoch 4/50\n",
      "373/373 [==============================] - 30s 81ms/step - loss: 0.0220 - accuracy: 0.9917 - val_loss: 0.0350 - val_accuracy: 0.9893\n",
      "Epoch 5/50\n",
      "373/373 [==============================] - 31s 83ms/step - loss: 0.0087 - accuracy: 0.9980 - val_loss: 0.0017 - val_accuracy: 1.0000\n",
      "Epoch 6/50\n",
      "373/373 [==============================] - 31s 84ms/step - loss: 0.0011 - accuracy: 1.0000 - val_loss: 8.9220e-04 - val_accuracy: 1.0000\n",
      "Epoch 7/50\n",
      "373/373 [==============================] - 31s 84ms/step - loss: 6.3968e-04 - accuracy: 1.0000 - val_loss: 5.5011e-04 - val_accuracy: 1.0000\n",
      "Epoch 8/50\n",
      "373/373 [==============================] - 31s 83ms/step - loss: 4.0939e-04 - accuracy: 1.0000 - val_loss: 3.7364e-04 - val_accuracy: 1.0000\n",
      "Epoch 9/50\n",
      "373/373 [==============================] - 31s 82ms/step - loss: 2.8176e-04 - accuracy: 1.0000 - val_loss: 2.6506e-04 - val_accuracy: 1.0000\n",
      "Epoch 10/50\n",
      "373/373 [==============================] - 31s 82ms/step - loss: 2.0197e-04 - accuracy: 1.0000 - val_loss: 1.9128e-04 - val_accuracy: 1.0000\n",
      "Epoch 11/50\n",
      "373/373 [==============================] - 31s 83ms/step - loss: 1.4840e-04 - accuracy: 1.0000 - val_loss: 1.4259e-04 - val_accuracy: 1.0000\n",
      "Epoch 12/50\n",
      "373/373 [==============================] - 30s 81ms/step - loss: 1.1196e-04 - accuracy: 1.0000 - val_loss: 1.0875e-04 - val_accuracy: 1.0000\n",
      "Epoch 13/50\n",
      "373/373 [==============================] - 30s 80ms/step - loss: 8.5845e-05 - accuracy: 1.0000 - val_loss: 8.3878e-05 - val_accuracy: 1.0000\n",
      "Epoch 14/50\n",
      "373/373 [==============================] - 30s 81ms/step - loss: 6.6571e-05 - accuracy: 1.0000 - val_loss: 6.5336e-05 - val_accuracy: 1.0000\n",
      "Epoch 15/50\n",
      "373/373 [==============================] - 31s 82ms/step - loss: 5.1964e-05 - accuracy: 1.0000 - val_loss: 5.1112e-05 - val_accuracy: 1.0000\n",
      "Epoch 16/50\n",
      "373/373 [==============================] - 30s 81ms/step - loss: 4.0889e-05 - accuracy: 1.0000 - val_loss: 4.0296e-05 - val_accuracy: 1.0000\n",
      "Epoch 17/50\n",
      "373/373 [==============================] - 30s 81ms/step - loss: 3.2324e-05 - accuracy: 1.0000 - val_loss: 3.1930e-05 - val_accuracy: 1.0000\n",
      "Epoch 18/50\n",
      "373/373 [==============================] - 30s 80ms/step - loss: 2.5664e-05 - accuracy: 1.0000 - val_loss: 2.5392e-05 - val_accuracy: 1.0000\n",
      "Epoch 19/50\n",
      "373/373 [==============================] - 30s 81ms/step - loss: 2.0460e-05 - accuracy: 1.0000 - val_loss: 2.0253e-05 - val_accuracy: 1.0000\n",
      "Epoch 20/50\n",
      "373/373 [==============================] - 31s 82ms/step - loss: 1.6342e-05 - accuracy: 1.0000 - val_loss: 1.6181e-05 - val_accuracy: 1.0000\n",
      "Epoch 21/50\n",
      "373/373 [==============================] - 30s 81ms/step - loss: 1.3118e-05 - accuracy: 1.0000 - val_loss: 1.2995e-05 - val_accuracy: 1.0000\n",
      "Epoch 22/50\n",
      "373/373 [==============================] - 30s 82ms/step - loss: 1.0543e-05 - accuracy: 1.0000 - val_loss: 1.0439e-05 - val_accuracy: 1.0000\n",
      "Epoch 23/50\n",
      "373/373 [==============================] - 31s 82ms/step - loss: 8.4981e-06 - accuracy: 1.0000 - val_loss: 8.4372e-06 - val_accuracy: 1.0000\n",
      "Epoch 24/50\n",
      "373/373 [==============================] - 31s 82ms/step - loss: 6.8533e-06 - accuracy: 1.0000 - val_loss: 6.7986e-06 - val_accuracy: 1.0000\n",
      "Epoch 25/50\n",
      "373/373 [==============================] - 31s 83ms/step - loss: 5.5407e-06 - accuracy: 1.0000 - val_loss: 5.4931e-06 - val_accuracy: 1.0000\n",
      "Epoch 26/50\n",
      "373/373 [==============================] - 31s 84ms/step - loss: 4.4884e-06 - accuracy: 1.0000 - val_loss: 4.4615e-06 - val_accuracy: 1.0000\n",
      "Epoch 27/50\n",
      "373/373 [==============================] - 31s 83ms/step - loss: 3.6423e-06 - accuracy: 1.0000 - val_loss: 3.6109e-06 - val_accuracy: 1.0000\n",
      "Epoch 28/50\n",
      "373/373 [==============================] - 32s 86ms/step - loss: 2.9556e-06 - accuracy: 1.0000 - val_loss: 2.9329e-06 - val_accuracy: 1.0000\n",
      "Epoch 29/50\n",
      "373/373 [==============================] - 31s 83ms/step - loss: 2.4037e-06 - accuracy: 1.0000 - val_loss: 2.3885e-06 - val_accuracy: 1.0000\n",
      "Epoch 30/50\n",
      "373/373 [==============================] - 31s 83ms/step - loss: 1.9561e-06 - accuracy: 1.0000 - val_loss: 1.9387e-06 - val_accuracy: 1.0000\n",
      "Epoch 31/50\n",
      "373/373 [==============================] - 31s 82ms/step - loss: 1.5926e-06 - accuracy: 1.0000 - val_loss: 1.5805e-06 - val_accuracy: 1.0000\n",
      "Epoch 32/50\n",
      "373/373 [==============================] - 31s 82ms/step - loss: 1.2977e-06 - accuracy: 1.0000 - val_loss: 1.2873e-06 - val_accuracy: 1.0000\n",
      "Epoch 33/50\n",
      "373/373 [==============================] - 31s 82ms/step - loss: 1.0589e-06 - accuracy: 1.0000 - val_loss: 1.0526e-06 - val_accuracy: 1.0000\n",
      "Epoch 34/50\n",
      "373/373 [==============================] - 31s 84ms/step - loss: 8.6458e-07 - accuracy: 1.0000 - val_loss: 8.6000e-07 - val_accuracy: 1.0000\n",
      "Epoch 35/50\n",
      "373/373 [==============================] - 32s 85ms/step - loss: 7.0794e-07 - accuracy: 1.0000 - val_loss: 7.0072e-07 - val_accuracy: 1.0000\n",
      "Epoch 36/50\n",
      "373/373 [==============================] - 31s 83ms/step - loss: 5.7961e-07 - accuracy: 1.0000 - val_loss: 5.7621e-07 - val_accuracy: 1.0000\n",
      "Epoch 37/50\n",
      "373/373 [==============================] - 31s 82ms/step - loss: 4.7533e-07 - accuracy: 1.0000 - val_loss: 4.7108e-07 - val_accuracy: 1.0000\n",
      "Epoch 38/50\n",
      "373/373 [==============================] - 32s 87ms/step - loss: 3.8914e-07 - accuracy: 1.0000 - val_loss: 3.8727e-07 - val_accuracy: 1.0000\n",
      "Epoch 39/50\n",
      "373/373 [==============================] - 32s 85ms/step - loss: 3.2018e-07 - accuracy: 1.0000 - val_loss: 3.1782e-07 - val_accuracy: 1.0000\n",
      "Epoch 40/50\n",
      "373/373 [==============================] - 30s 81ms/step - loss: 2.6355e-07 - accuracy: 1.0000 - val_loss: 2.6197e-07 - val_accuracy: 1.0000\n",
      "Epoch 41/50\n",
      "373/373 [==============================] - 30s 82ms/step - loss: 2.1601e-07 - accuracy: 1.0000 - val_loss: 2.1471e-07 - val_accuracy: 1.0000\n",
      "Epoch 42/50\n",
      "373/373 [==============================] - 30s 81ms/step - loss: 1.7828e-07 - accuracy: 1.0000 - val_loss: 1.7567e-07 - val_accuracy: 1.0000\n",
      "Epoch 43/50\n",
      "373/373 [==============================] - 31s 84ms/step - loss: 1.4595e-07 - accuracy: 1.0000 - val_loss: 1.4444e-07 - val_accuracy: 1.0000\n",
      "Epoch 44/50\n",
      "373/373 [==============================] - 32s 86ms/step - loss: 1.1941e-07 - accuracy: 1.0000 - val_loss: 1.1870e-07 - val_accuracy: 1.0000\n",
      "Epoch 45/50\n",
      "373/373 [==============================] - 32s 86ms/step - loss: 9.7728e-08 - accuracy: 1.0000 - val_loss: 9.6425e-08 - val_accuracy: 1.0000\n",
      "Epoch 46/50\n",
      "373/373 [==============================] - 31s 84ms/step - loss: 7.9729e-08 - accuracy: 1.0000 - val_loss: 7.9864e-08 - val_accuracy: 1.0000\n",
      "Epoch 47/50\n",
      "373/373 [==============================] - 31s 83ms/step - loss: 6.5758e-08 - accuracy: 1.0000 - val_loss: 6.5712e-08 - val_accuracy: 1.0000\n",
      "Epoch 48/50\n",
      "373/373 [==============================] - 30s 81ms/step - loss: 5.3308e-08 - accuracy: 1.0000 - val_loss: 5.3457e-08 - val_accuracy: 1.0000\n",
      "Epoch 49/50\n",
      "373/373 [==============================] - 31s 83ms/step - loss: 4.2202e-08 - accuracy: 1.0000 - val_loss: 4.1751e-08 - val_accuracy: 1.0000\n",
      "Epoch 50/50\n",
      "373/373 [==============================] - 32s 85ms/step - loss: 3.2631e-08 - accuracy: 1.0000 - val_loss: 3.3131e-08 - val_accuracy: 1.0000\n"
     ]
    }
   ],
   "source": [
    "from tensorflow.keras.layers import Embedding, LSTM, Dense, Bidirectional, Conv1D, Dropout\n",
    "embedding_layer = Embedding(input_dim = len(tokenizer.word_index) + 1, output_dim = max_length, weights = [embedding_matrix], trainable = False)\n",
    "from tensorflow.keras.models import Sequential\n",
    "from sklearn.model_selection import cross_val_score, KFold\n",
    "from tensorflow.keras.wrappers.scikit_learn import KerasRegressor\n",
    "from sklearn.model_selection import train_test_split\n",
    "\n",
    "\n",
    "def buildmodel():\n",
    "    model = Sequential()\n",
    "    model.add(embedding_layer)\n",
    "    model.add(Conv1D(input_dim = max_length, filters = 100, kernel_size = 3, padding = 'same', activation = 'relu'))\n",
    "    model.add(Bidirectional(LSTM(units = 15, return_sequences = False)))\n",
    "    model.add(Dense(units = 10, activation = 'relu'))\n",
    "    model.add(Dense(units = 3, activation = 'sigmoid'))\n",
    "    model.compile(loss='binary_crossentropy', optimizer='adam', metrics=['accuracy'])\n",
    "    return model\n",
    "# estimator = KerasRegressor(build_fn = buildmodel, epochs = 5, batch_size = 32, verbose = 1)\n",
    "# kfold = KFold(n_splits = 5, random_state = 42, shuffle = True)\n",
    "# results = cross_val_score(estimator, dfx_nums_padded, dfy, cv = kfold)\n",
    "\n",
    "#actually build the model to generate the object\n",
    "model = buildmodel()\n",
    "X_train, X_test, y_train, y_test = train_test_split(dfx_nums_padded, dfy, test_size=0.2, random_state=42)\n",
    "#model\n",
    "# history = model.fit(X_train,y_train, epochs = 5)\n",
    "history2 = model.fit(dfx_nums_padded, dfy, validation_split=0.33, epochs=50, verbose=1)\n"
   ]
  },
  {
   "cell_type": "code",
   "execution_count": 5,
   "metadata": {},
   "outputs": [
    {
     "name": "stdout",
     "output_type": "stream",
     "text": [
      "dict_keys(['loss', 'accuracy', 'val_loss', 'val_accuracy'])\n"
     ]
    },
    {
     "data": {
      "image/png": "[encoded data removed]",
      "text/plain": [
       "<Figure size 432x288 with 1 Axes>"
      ]
     },
     "metadata": {
      "needs_background": "light"
     },
     "output_type": "display_data"
    },
    {
     "data": {
      "image/png": "[encoded data removed]",
      "text/plain": [
       "<Figure size 432x288 with 1 Axes>"
      ]
     },
     "metadata": {
      "needs_background": "light"
     },
     "output_type": "display_data"
    }
   ],
   "source": [
    "\n",
    "# list all data in history\n",
    "print(history2.history.keys())\n",
    "\n",
    "import matplotlib.pyplot as plt\n",
    "# summarize history for accuracy\n",
    "plt.plot(history2.history['accuracy'])\n",
    "plt.plot(history2.history['val_accuracy'])\n",
    "plt.title('model accuracy')\n",
    "plt.ylabel('accuracy')\n",
    "plt.xlabel('epoch')\n",
    "plt.legend(['train', 'test'], loc='upper left')\n",
    "plt.show()\n",
    "\n",
    "# summarize history for loss\n",
    "plt.plot(history2.history['loss'])\n",
    "plt.plot(history2.history['val_loss'])\n",
    "plt.title('model loss')\n",
    "plt.ylabel('loss')\n",
    "plt.xlabel('epoch')\n",
    "plt.legend(['train', 'test'], loc='upper left')\n",
    "plt.show()"
   ]
  }
 ],
 "metadata": {
  "interpreter": {
   "hash": "40d3a090f54c6569ab1632332b64b2c03c39dcf918b08424e98f38b5ae0af88f"
  },
  "kernelspec": {
   "display_name": "Python 3.8.5 ('base')",
   "language": "python",
   "name": "python3"
  },
  "language_info": {
   "codemirror_mode": {
    "name": "ipython",
    "version": 3
   },
   "file_extension": ".py",
   "mimetype": "text/x-python",
   "name": "python",
   "nbconvert_exporter": "python",
   "pygments_lexer": "ipython3",
   "version": "3.8.13"
  },
  "orig_nbformat": 4
 },
 "nbformat": 4,
 "nbformat_minor": 2
}
