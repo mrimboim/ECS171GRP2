{
 "cells": [
  {
   "cell_type": "code",
   "execution_count": 1,
   "metadata": {},
   "outputs": [
    {
     "name": "stderr",
     "output_type": "stream",
     "text": [
      "<ipython-input-1-f041ac669b9b>:7: VisibleDeprecationWarning: Creating an ndarray from ragged nested sequences (which is a list-or-tuple of lists-or-tuples-or ndarrays with different lengths or shapes) is deprecated. If you meant to do this, you must specify 'dtype=object' when creating the ndarray.\n",
      "  dfx = np.array(dfx)\n"
     ]
    },
    {
     "data": {
      "text/plain": [
       "<fasttext.FastText._FastText at 0x1309c3880>"
      ]
     },
     "execution_count": 1,
     "metadata": {},
     "output_type": "execute_result"
    }
   ],
   "source": [
    "import fasttext, numpy as np, pandas as pd\n",
    "import fasttext.util\n",
    "# READS THE FILE INTO A DATAFRAME\n",
    "df = pd.read_excel(\"annotations.xlsx\")\n",
    "# CREATES A DATAFRAME WITH ONLY THE COLUMNS WE NEED\n",
    "dfx = [i.split(\" \") for i in df.text]\n",
    "dfx = np.array(dfx)\n",
    "# ONE HOT ENCODES THE RESULT\n",
    "dfy = pd.get_dummies(df.type)\n",
    "ftfile = open(\"format.txt\", \"w\")\n",
    "# WRITES THE FILE FOR FASTTEXT\n",
    "for i in df.text:\n",
    "    ftfile.write(i + \"\\n\")\n",
    "ftfile.close()\n",
    "# TRAINS ALL THE MODELS\n",
    "ftmodel_cbow = fasttext.train_unsupervised(\"format.txt\", model='cbow')\n",
    "ftmodel_skipgram = fasttext.train_unsupervised(\"format.txt\", model='skipgram')\n",
    "ftmodel = fasttext.load_model(\"fastText/cc.en.300.bin\")\n",
    "# REDUCES WORD VECTORS TO LENGTH 2 (WORD VECTORS COME IN THE FORM OF A LIST)\n",
    "fasttext.util.reduce_model(ftmodel, 2)\n",
    "fasttext.util.reduce_model(ftmodel_cbow, 2)\n",
    "fasttext.util.reduce_model(ftmodel_skipgram, 2)"
   ]
  },
  {
   "cell_type": "code",
   "execution_count": 2,
   "metadata": {},
   "outputs": [],
   "source": [
    "# REASSIGNMENT\n",
    "vectorizer1 = ftmodel\n",
    "vectorizer2 = ftmodel_cbow\n",
    "vectorizer3 = ftmodel_skipgram"
   ]
  },
  {
   "cell_type": "code",
   "execution_count": 3,
   "metadata": {},
   "outputs": [],
   "source": [
    "# REARRANGES WORD MATRICES FOR CODING PURPOSES\n",
    "words1 = np.zeros(shape = (17775, 100, 2), dtype = 'float')\n",
    "for i in range(17775):\n",
    "    for j in range(len(dfx[i])):\n",
    "        words1[i][j] = vectorizer1.get_word_vector(dfx[i][j])\n",
    "\n",
    "words2 = np.zeros(shape = (17775, 100, 2), dtype = 'float')\n",
    "for i in range(17775):\n",
    "    for j in range(len(dfx[i])):\n",
    "        words2[i][j] = vectorizer2.get_word_vector(dfx[i][j])\n",
    "\n",
    "words3 = np.zeros(shape = (17775, 100, 2), dtype = 'float')\n",
    "for i in range(17775):\n",
    "    for j in range(len(dfx[i])):\n",
    "        words3[i][j] = vectorizer3.get_word_vector(dfx[i][j])"
   ]
  },
  {
   "cell_type": "code",
   "execution_count": 4,
   "metadata": {},
   "outputs": [],
   "source": [
    "# CREATES TOKENIZERS THORUGH THE WORD VECTORS\n",
    "from keras.preprocessing.text import Tokenizer\n",
    "vocab_size = len(ftmodel.words)\n",
    "tokenizer = Tokenizer(num_words = vocab_size, oov_token = \"<OOV>\")\n",
    "tokenizer.fit_on_texts(dfx)\n",
    "# CREATES INPUT DATAFRAME\n",
    "dfx_nums = tokenizer.texts_to_sequences(dfx)\n",
    "from keras.preprocessing.sequence import pad_sequences\n",
    "dfx_nums_padded = pad_sequences(dfx_nums, maxlen = 100, padding = 'post', truncating = 'post')\n",
    "# CREATES EMBEDDING MATRIX FOR EMBEDDING LAYER\n",
    "embedding_matrix = np.zeros((len(tokenizer.word_index) + 1, 2))\n",
    "for word, i in tokenizer.word_index.items():\n",
    "    embedding_vector = vectorizer3.get_word_vector(word)\n",
    "    if embedding_vector is not None:\n",
    "        embedding_matrix[i] = embedding_vector"
   ]
  },
  {
   "cell_type": "code",
   "execution_count": 6,
   "metadata": {},
   "outputs": [
    {
     "name": "stdout",
     "output_type": "stream",
     "text": [
      "Epoch 1/50\n",
      "373/373 [==============================] - 39s 84ms/step - loss: 0.6197 - accuracy: 0.4134 - val_loss: 0.6104 - val_accuracy: 0.4368\n",
      "Epoch 2/50\n",
      "373/373 [==============================] - 29s 77ms/step - loss: 0.6062 - accuracy: 0.4413 - val_loss: 0.5995 - val_accuracy: 0.4410\n",
      "Epoch 3/50\n",
      "373/373 [==============================] - 30s 80ms/step - loss: 0.5972 - accuracy: 0.4513 - val_loss: 0.5982 - val_accuracy: 0.4548\n",
      "Epoch 4/50\n",
      "373/373 [==============================] - 30s 80ms/step - loss: 0.5928 - accuracy: 0.4607 - val_loss: 0.5948 - val_accuracy: 0.4668\n",
      "Epoch 5/50\n",
      "373/373 [==============================] - 30s 80ms/step - loss: 0.5899 - accuracy: 0.4691 - val_loss: 0.5869 - val_accuracy: 0.4695\n",
      "Epoch 6/50\n",
      "373/373 [==============================] - 29s 78ms/step - loss: 0.5839 - accuracy: 0.4853 - val_loss: 0.5852 - val_accuracy: 0.4720\n",
      "Epoch 7/50\n",
      "373/373 [==============================] - 29s 78ms/step - loss: 0.5808 - accuracy: 0.4985 - val_loss: 0.5800 - val_accuracy: 0.4785\n",
      "Epoch 8/50\n",
      "373/373 [==============================] - 29s 78ms/step - loss: 0.5757 - accuracy: 0.5120 - val_loss: 0.5739 - val_accuracy: 0.5189\n",
      "Epoch 9/50\n",
      "373/373 [==============================] - 29s 77ms/step - loss: 0.5678 - accuracy: 0.5230 - val_loss: 0.5674 - val_accuracy: 0.5235\n",
      "Epoch 10/50\n",
      "373/373 [==============================] - 29s 77ms/step - loss: 0.5605 - accuracy: 0.5368 - val_loss: 0.5619 - val_accuracy: 0.5319\n",
      "Epoch 11/50\n",
      "373/373 [==============================] - 29s 78ms/step - loss: 0.5519 - accuracy: 0.5472 - val_loss: 0.5722 - val_accuracy: 0.5055\n",
      "Epoch 12/50\n",
      "373/373 [==============================] - 29s 77ms/step - loss: 0.5476 - accuracy: 0.5583 - val_loss: 0.5458 - val_accuracy: 0.5554\n",
      "Epoch 13/50\n",
      "373/373 [==============================] - 28s 76ms/step - loss: 0.5297 - accuracy: 0.5863 - val_loss: 0.5316 - val_accuracy: 0.5844\n",
      "Epoch 14/50\n",
      "373/373 [==============================] - 29s 77ms/step - loss: 0.5175 - accuracy: 0.6066 - val_loss: 0.5322 - val_accuracy: 0.5873\n",
      "Epoch 15/50\n",
      "373/373 [==============================] - 29s 77ms/step - loss: 0.5030 - accuracy: 0.6185 - val_loss: 0.5211 - val_accuracy: 0.6105\n",
      "Epoch 16/50\n",
      "373/373 [==============================] - 29s 78ms/step - loss: 0.4873 - accuracy: 0.6419 - val_loss: 0.4956 - val_accuracy: 0.6284\n",
      "Epoch 17/50\n",
      "373/373 [==============================] - 29s 77ms/step - loss: 0.4734 - accuracy: 0.6588 - val_loss: 0.5033 - val_accuracy: 0.6204\n",
      "Epoch 18/50\n",
      "373/373 [==============================] - 29s 77ms/step - loss: 0.4599 - accuracy: 0.6717 - val_loss: 0.4605 - val_accuracy: 0.6775\n",
      "Epoch 19/50\n",
      "373/373 [==============================] - 29s 78ms/step - loss: 0.4367 - accuracy: 0.6959 - val_loss: 0.4555 - val_accuracy: 0.6821\n",
      "Epoch 20/50\n",
      "373/373 [==============================] - 29s 77ms/step - loss: 0.4193 - accuracy: 0.7159 - val_loss: 0.4441 - val_accuracy: 0.6880\n",
      "Epoch 21/50\n",
      "373/373 [==============================] - 29s 79ms/step - loss: 0.4054 - accuracy: 0.7281 - val_loss: 0.4185 - val_accuracy: 0.7257\n",
      "Epoch 22/50\n",
      "373/373 [==============================] - 29s 79ms/step - loss: 0.3932 - accuracy: 0.7420 - val_loss: 0.4167 - val_accuracy: 0.7272\n",
      "Epoch 23/50\n",
      "373/373 [==============================] - 29s 78ms/step - loss: 0.3795 - accuracy: 0.7523 - val_loss: 0.4008 - val_accuracy: 0.7341\n",
      "Epoch 24/50\n",
      "373/373 [==============================] - 29s 78ms/step - loss: 0.3675 - accuracy: 0.7666 - val_loss: 0.3884 - val_accuracy: 0.7542\n",
      "Epoch 25/50\n",
      "373/373 [==============================] - 30s 79ms/step - loss: 0.3404 - accuracy: 0.7879 - val_loss: 0.3857 - val_accuracy: 0.7474\n",
      "Epoch 26/50\n",
      "373/373 [==============================] - 29s 78ms/step - loss: 0.3299 - accuracy: 0.7941 - val_loss: 0.3355 - val_accuracy: 0.7936\n",
      "Epoch 27/50\n",
      "373/373 [==============================] - 30s 80ms/step - loss: 0.3254 - accuracy: 0.7980 - val_loss: 0.4311 - val_accuracy: 0.7116\n",
      "Epoch 28/50\n",
      "373/373 [==============================] - 30s 80ms/step - loss: 0.4072 - accuracy: 0.7253 - val_loss: 0.3335 - val_accuracy: 0.7895\n",
      "Epoch 29/50\n",
      "373/373 [==============================] - 30s 80ms/step - loss: 0.2966 - accuracy: 0.8176 - val_loss: 0.3119 - val_accuracy: 0.8080\n",
      "Epoch 30/50\n",
      "373/373 [==============================] - 30s 80ms/step - loss: 0.2969 - accuracy: 0.8167 - val_loss: 0.2940 - val_accuracy: 0.8239\n",
      "Epoch 31/50\n",
      "373/373 [==============================] - 30s 81ms/step - loss: 0.2805 - accuracy: 0.8322 - val_loss: 0.2952 - val_accuracy: 0.8234\n",
      "Epoch 32/50\n",
      "373/373 [==============================] - 30s 81ms/step - loss: 0.2728 - accuracy: 0.8363 - val_loss: 0.2745 - val_accuracy: 0.8348\n",
      "Epoch 33/50\n",
      "373/373 [==============================] - 30s 80ms/step - loss: 0.2571 - accuracy: 0.8502 - val_loss: 0.2660 - val_accuracy: 0.8403\n",
      "Epoch 34/50\n",
      "373/373 [==============================] - 30s 80ms/step - loss: 0.2542 - accuracy: 0.8507 - val_loss: 0.2699 - val_accuracy: 0.8409\n",
      "Epoch 35/50\n",
      "373/373 [==============================] - 30s 79ms/step - loss: 0.2320 - accuracy: 0.8688 - val_loss: 0.3256 - val_accuracy: 0.8014\n",
      "Epoch 36/50\n",
      "373/373 [==============================] - 30s 81ms/step - loss: 0.2888 - accuracy: 0.8220 - val_loss: 0.2799 - val_accuracy: 0.8212\n",
      "Epoch 37/50\n",
      "373/373 [==============================] - 31s 84ms/step - loss: 0.2400 - accuracy: 0.8544 - val_loss: 0.2448 - val_accuracy: 0.8483\n",
      "Epoch 38/50\n",
      "373/373 [==============================] - 31s 83ms/step - loss: 0.2515 - accuracy: 0.8495 - val_loss: 0.2569 - val_accuracy: 0.8459\n",
      "Epoch 39/50\n",
      "373/373 [==============================] - 31s 83ms/step - loss: 0.2189 - accuracy: 0.8713 - val_loss: 0.3196 - val_accuracy: 0.8067\n",
      "Epoch 40/50\n",
      "373/373 [==============================] - 31s 84ms/step - loss: 0.2354 - accuracy: 0.8605 - val_loss: 0.2212 - val_accuracy: 0.8715\n",
      "Epoch 41/50\n",
      "373/373 [==============================] - 30s 80ms/step - loss: 0.2122 - accuracy: 0.8738 - val_loss: 0.2205 - val_accuracy: 0.8725\n",
      "Epoch 42/50\n",
      "373/373 [==============================] - 30s 81ms/step - loss: 0.2057 - accuracy: 0.8803 - val_loss: 0.2356 - val_accuracy: 0.8619\n",
      "Epoch 43/50\n",
      "373/373 [==============================] - 29s 78ms/step - loss: 0.2165 - accuracy: 0.8773 - val_loss: 0.3784 - val_accuracy: 0.7581\n",
      "Epoch 44/50\n",
      "373/373 [==============================] - 29s 79ms/step - loss: 0.2134 - accuracy: 0.8761 - val_loss: 0.1796 - val_accuracy: 0.8890\n",
      "Epoch 45/50\n",
      "373/373 [==============================] - 29s 77ms/step - loss: 0.1734 - accuracy: 0.9018 - val_loss: 0.2141 - val_accuracy: 0.8679\n",
      "Epoch 46/50\n",
      "373/373 [==============================] - 25s 68ms/step - loss: 0.2826 - accuracy: 0.8390 - val_loss: 0.2186 - val_accuracy: 0.8861\n",
      "Epoch 47/50\n",
      "373/373 [==============================] - 25s 68ms/step - loss: 0.1744 - accuracy: 0.9030 - val_loss: 0.2150 - val_accuracy: 0.8887\n",
      "Epoch 48/50\n",
      "373/373 [==============================] - 25s 68ms/step - loss: 0.1740 - accuracy: 0.9025 - val_loss: 0.1666 - val_accuracy: 0.9114\n",
      "Epoch 49/50\n",
      "373/373 [==============================] - 26s 69ms/step - loss: 0.1756 - accuracy: 0.9034 - val_loss: 0.1646 - val_accuracy: 0.9134\n",
      "Epoch 50/50\n",
      "373/373 [==============================] - 26s 69ms/step - loss: 0.2294 - accuracy: 0.8625 - val_loss: 0.2416 - val_accuracy: 0.8565\n"
     ]
    }
   ],
   "source": [
    "from tensorflow import keras\n",
    "from keras.models import Sequential\n",
    "from keras.layers import Conv1D, LSTM, Dropout, Dense, Embedding, Bidirectional\n",
    "from sklearn.model_selection import train_test_split\n",
    "# CREATES EMBEDDING LAYER\n",
    "embedding_layer = Embedding(input_dim = len(tokenizer.word_index) + 1, output_dim = 2, weights = [embedding_matrix], trainable = False)\n",
    "# CREATES MODEL\n",
    "def buildmodel():\n",
    "    model = Sequential()\n",
    "    model.add(embedding_layer)\n",
    "    model.add(Conv1D(input_dim = 100, filters = 30, kernel_size = 3, padding = 'same', activation = 'relu'))\n",
    "    model.add(Bidirectional(LSTM(units = 23, return_sequences = False)))#when activated sigmoid goes to 0.4025\n",
    "    model.add(Dropout(rate = 0.05))\n",
    "    model.add(Dense(units = 20, activation = 'relu', kernel_regularizer = keras.regularizers.l2(l = 0.001)))#DELETE THIS ACTIVATION FUNCTION\n",
    "    model.add(Dense(units = 3, activation = 'sigmoid',))\n",
    "    opt = keras.optimizers.Adam(learning_rate = 0.002)\n",
    "    model.compile(loss='binary_crossentropy', optimizer=opt, metrics=['accuracy'])\n",
    "    return model\n",
    "\n",
    "\n",
    "#actually build the model to generate the object\n",
    "model_ver2 = buildmodel()\n",
    "X_train, X_test, y_train, y_test = train_test_split(dfx_nums_padded, dfy, test_size=0.2, random_state=42)\n",
    "#model\n",
    "# history = model.fit(X_train,y_train, epochs = 5)\n",
    "ver2_history = model_ver2.fit(dfx_nums_padded, dfy, validation_split=0.33, epochs=50, verbose=1)"
   ]
  },
  {
   "cell_type": "code",
   "execution_count": 7,
   "metadata": {},
   "outputs": [
    {
     "name": "stdout",
     "output_type": "stream",
     "text": [
      "dict_keys(['loss', 'accuracy', 'val_loss', 'val_accuracy'])\n"
     ]
    },
    {
     "data": {
      "image/png": "[encoded data removed]",
      "text/plain": [
       "<Figure size 432x288 with 1 Axes>"
      ]
     },
     "metadata": {
      "needs_background": "light"
     },
     "output_type": "display_data"
    },
    {
     "data": {
      "image/png": "[encoded data removed]",
      "text/plain": [
       "<Figure size 432x288 with 1 Axes>"
      ]
     },
     "metadata": {
      "needs_background": "light"
     },
     "output_type": "display_data"
    }
   ],
   "source": [
    "# list all data in history\n",
    "print(ver2_history.history.keys())\n",
    "\n",
    "import matplotlib.pyplot as plt\n",
    "# summarize history for accuracy\n",
    "plt.plot(ver2_history.history['accuracy'])\n",
    "plt.plot(ver2_history.history['val_accuracy'])\n",
    "plt.title('model accuracy')\n",
    "plt.ylabel('accuracy')\n",
    "plt.xlabel('epoch')\n",
    "plt.legend(['train', 'test'], loc='upper left')\n",
    "plt.show()\n",
    "\n",
    "# summarize history for loss\n",
    "plt.plot(ver2_history.history['loss'])\n",
    "plt.plot(ver2_history.history['val_loss'])\n",
    "plt.title('model loss')\n",
    "plt.ylabel('loss')\n",
    "plt.xlabel('epoch')\n",
    "plt.legend(['train', 'test'], loc='upper left')\n",
    "plt.show()"
   ]
  }
 ],
 "metadata": {
  "interpreter": {
   "hash": "40d3a090f54c6569ab1632332b64b2c03c39dcf918b08424e98f38b5ae0af88f"
  },
  "kernelspec": {
   "display_name": "Python 3.8.5 ('base')",
   "language": "python",
   "name": "python3"
  },
  "language_info": {
   "codemirror_mode": {
    "name": "ipython",
    "version": 3
   },
   "file_extension": ".py",
   "mimetype": "text/x-python",
   "name": "python",
   "nbconvert_exporter": "python",
   "pygments_lexer": "ipython3",
   "version": "3.8.13"
  },
  "orig_nbformat": 4
 },
 "nbformat": 4,
 "nbformat_minor": 2
}
